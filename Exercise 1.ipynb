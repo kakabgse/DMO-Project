{
 "cells": [
  {
   "cell_type": "code",
   "execution_count": 1,
   "metadata": {},
   "outputs": [],
   "source": [
    "# 1. (DNA)\n",
    "X = 'ACTACTAGATTACTTACGGATCAGGTACTTTAGAGGCTTGCAACCA'\n",
    "Y = 'TACTAGCTTACTTACCCATCAGGTTTTAGAGATGGCAACCA'"
   ]
  },
  {
   "cell_type": "code",
   "execution_count": 2,
   "metadata": {},
   "outputs": [],
   "source": [
    "# 2. (Proteins)\n",
    "X = 'AASRPRSGVPAQSDSDPCQNLAATPIPSRPPSSQSCQKCRADARQGRWGP'\n",
    "Y = 'SGAPGQRGEPGPQGHAGAPGPPGPPGSDG'"
   ]
  },
  {
   "cell_type": "code",
   "execution_count": 3,
   "metadata": {},
   "outputs": [],
   "source": [
    "# Import numpy  \n",
    "import numpy as np\n",
    "\n",
    "# Import time \n",
    "from time import time"
   ]
  },
  {
   "cell_type": "code",
   "execution_count": 4,
   "metadata": {},
   "outputs": [],
   "source": [
    "# Using matrix dynamic programming, define a function which given string 1 and string 2, we calculate the edit distance\n",
    "\n",
    "def edit_distance(string1, string2):\n",
    "    \"\"\" Construct the initial matrix \"\"\"\n",
    "    m = len(string1) + 1 #length of string 1\n",
    "    n = len(string2) + 1 #length of string 2\n",
    "    matrix = np.zeros((m, n)) #create a matrix of dimensions m x n with zeros\n",
    "    for x in range(m): #iterate over range of m\n",
    "        matrix[x, 0] = x #put the values of the iteration in the first column\n",
    "    for y in range(n): #iterate over range of n\n",
    "        matrix[0, y] = y #put the values of the iteration in the first row\n",
    "\n",
    "    \"\"\" Fill in the matrix with minimum cost \"\"\"\n",
    "    for x in range(1, m): #iterate over range of m skipping the first value [0]\n",
    "        for y in range(1, n): #iterate over range of n skipping the first value [0]\n",
    "            subst_cost = 1 if string1[x-1] != string2[y-1] else 0 #calculate the substitution cost\n",
    "            matrix[x,y] = min( #select the action with minimum cost \n",
    "                matrix[x-1, y-1] + subst_cost, #calculate the substitution cost\n",
    "                matrix[x-1, y] + 1, #calculate the deletion cost\n",
    "                matrix[x, y-1] + 1 #calculate the insertion cost\n",
    "            )\n",
    "            \n",
    "    \"\"\" Print the results \"\"\"\n",
    "    print (matrix) #print the contructed matrix\n",
    "    return (int(matrix[m - 1, n - 1])) #return the edit distance"
   ]
  },
  {
   "cell_type": "code",
   "execution_count": 5,
   "metadata": {},
   "outputs": [
    {
     "name": "stdout",
     "output_type": "stream",
     "text": [
      "[[ 0.  1.  2. ... 27. 28. 29.]\n",
      " [ 1.  1.  2. ... 26. 27. 28.]\n",
      " [ 2.  2.  2. ... 25. 26. 27.]\n",
      " ...\n",
      " [48. 47. 46. ... 37. 36. 35.]\n",
      " [49. 48. 47. ... 38. 37. 36.]\n",
      " [50. 49. 48. ... 39. 38. 37.]]\n",
      "Edit distance:  37\n",
      "Time: 0.00658 seconds\n"
     ]
    }
   ],
   "source": [
    "# Print the results\n",
    "st = time()\n",
    "print('Edit distance: ', edit_distance(X, Y))\n",
    "\n",
    "# Print time\n",
    "print('Time: %0.5f seconds' % (time() - st))"
   ]
  },
  {
   "cell_type": "code",
   "execution_count": 6,
   "metadata": {},
   "outputs": [],
   "source": [
    "# Import numpy  \n",
    "import numpy as np\n",
    "\n",
    "# Using matrix dynamic programming, define a function which given string 1, string 2, \n",
    "# the substitution cost, the deletion cost and the insertion cost, we calculate the edit distance\n",
    "\n",
    "def edit_distance_penalty(string1, string2, substitution_cost=1, deletion_cost=1, insertion_cost=1):\n",
    "    \"\"\" Construct the initial matrix \"\"\"\n",
    "    m = len(string1) + 1 #length of string 1\n",
    "    n = len(string2) + 1 #length of string 2\n",
    "    matrix = np.zeros((m, n)) #create a matrix of dimensions m x n with zeros\n",
    "    for x in range(m): #iterate over range of m\n",
    "        matrix[x, 0] = x * deletion_cost #put the values of the iteration in the first column\n",
    "    for y in range(n): #iterate over range of n\n",
    "        matrix[0, y] = y * insertion_cost #put the values of the iteration in the first row\n",
    "\n",
    "    \"\"\" Fill in the matrix with minimum cost \"\"\"\n",
    "    for x in range(1, m): #iterate over range of m skipping the first value [0]\n",
    "        for y in range(1, n): #iterate over range of n skipping the first value [0]\n",
    "            subst_cost = substitution_cost if string1[x-1] != string2[y-1] else 0 #calculate the substitution cost\n",
    "            matrix[x,y] = min( #select the action with minimum cost \n",
    "                matrix[x-1, y-1] + subst_cost, #calculate the substitution cost\n",
    "                matrix[x-1, y] + deletion_cost, #calculate the deletion cost\n",
    "                matrix[x, y-1] + insertion_cost #calculate the insertion cost\n",
    "            )\n",
    "            \n",
    "    \"\"\" Print the results \"\"\"\n",
    "    print (matrix) #print the contructed matrix\n",
    "    return (int(matrix[m - 1, n - 1])) #return the edit distance"
   ]
  },
  {
   "cell_type": "code",
   "execution_count": 7,
   "metadata": {},
   "outputs": [
    {
     "name": "stdout",
     "output_type": "stream",
     "text": [
      "[[ 0.  1.  2. ... 27. 28. 29.]\n",
      " [ 1.  1.  2. ... 26. 27. 28.]\n",
      " [ 2.  2.  2. ... 25. 26. 27.]\n",
      " ...\n",
      " [48. 47. 46. ... 37. 36. 35.]\n",
      " [49. 48. 47. ... 38. 37. 36.]\n",
      " [50. 49. 48. ... 39. 38. 37.]]\n",
      "Edit distance:  37\n",
      "Time: 0.00487 seconds\n"
     ]
    }
   ],
   "source": [
    "# Print the results\n",
    "st = time()\n",
    "print('Edit distance: ', edit_distance_penalty(X, Y))\n",
    "\n",
    "# Print time\n",
    "print('Time: %0.5f seconds' % (time() - st))"
   ]
  }
 ],
 "metadata": {
  "kernelspec": {
   "display_name": "Python 3",
   "language": "python",
   "name": "python3"
  },
  "language_info": {
   "codemirror_mode": {
    "name": "ipython",
    "version": 3
   },
   "file_extension": ".py",
   "mimetype": "text/x-python",
   "name": "python",
   "nbconvert_exporter": "python",
   "pygments_lexer": "ipython3",
   "version": "3.7.0"
  }
 },
 "nbformat": 4,
 "nbformat_minor": 2
}
