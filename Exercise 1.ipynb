{
 "cells": [
  {
   "cell_type": "code",
   "execution_count": 1,
   "metadata": {},
   "outputs": [],
   "source": [
    "# Import libraries  \n",
    "import numpy as np\n",
    "import pandas as pd\n",
    "from time import time"
   ]
  },
  {
   "cell_type": "code",
   "execution_count": 2,
   "metadata": {},
   "outputs": [],
   "source": [
    "# 1. (DNA)\n",
    "X1 = 'ACTACTAGATTACTTACGGATCAGGTACTTTAGAGGCTTGCAACCA'\n",
    "Y1 = 'TACTAGCTTACTTACCCATCAGGTTTTAGAGATGGCAACCA'"
   ]
  },
  {
   "cell_type": "code",
   "execution_count": 3,
   "metadata": {},
   "outputs": [],
   "source": [
    "# 2. (Proteins)\n",
    "X2 = 'AASRPRSGVPAQSDSDPCQNLAATPIPSRPPSSQSCQKCRADARQGRWGP'\n",
    "Y2 = 'SGAPGQRGEPGPQGHAGAPGPPGPPGSDG'"
   ]
  },
  {
   "cell_type": "markdown",
   "metadata": {},
   "source": [
    "### 1. Design an algorithm that, given strings X and Y , computes the edit distance between X and Y . The algorithm should provide also the optimal sequence of operations transforming X into Y ."
   ]
  },
  {
   "cell_type": "code",
   "execution_count": 4,
   "metadata": {},
   "outputs": [],
   "source": [
    "# Using matrix dynamic programming, define a function which given string 1 and string 2, we calculate the edit distance\n",
    "\n",
    "def edit_distance(string1, string2):\n",
    "    \"\"\" Construct the initial matrix \"\"\"\n",
    "    m = len(string1) + 1 #length of string 1\n",
    "    n = len(string2) + 1 #length of string 2\n",
    "    matrix = np.zeros((m, n)) #create a matrix of dimensions m x n with zeros\n",
    "    for x in range(m): #iterate over range of m\n",
    "        matrix[x, 0] = x #put the values of the iteration in the first column\n",
    "    for y in range(n): #iterate over range of n\n",
    "        matrix[0, y] = y #put the values of the iteration in the first row\n",
    "    \n",
    "    \"\"\" Fill in the matrix with minimum cost \"\"\"\n",
    "    for x in range(1, m): #iterate over range of m skipping the first value [0]\n",
    "        for y in range(1, n): #iterate over range of n skipping the first value [0]\n",
    "            sub = 1 if string1[x-1] != string2[y-1] else 0 #determine if there was a substitution   \n",
    "            matrix[x,y] = min( #select the action with minimum cost \n",
    "                matrix[x-1, y-1] + sub, #calculate the substitution cost\n",
    "                matrix[x-1, y] + 1, #calculate the deletion cost\n",
    "                matrix[x, y-1] + 1 #calculate the insertion cost\n",
    "            )     \n",
    "    \n",
    "    \"\"\" Calculate the optimal sequence of operations \"\"\"\n",
    "    row = m-1 #create row variable\n",
    "    column = n-1 #create column variable\n",
    "    operations = [] #create list for optimal sequence of operations\n",
    "    while not ((row == 0) and (column == 0)): #find optimal path from cell [row,column] until cell [0,0]\n",
    "        if (row != 0) & (column != 0): #if we haven't reached the first row or the first column\n",
    "            #Value of cell to the left is smaller than cell above and diagonal cell \"\"\"\n",
    "            if (matrix[row,column-1] < matrix[row-1,column]) & (matrix[row,column-1] < matrix[row-1,column-1]):\n",
    "                column = column-1 #shift to the left\n",
    "                operations.append('I') #add Insertion to our list \n",
    "            #Value of cell above is smaller than cell to the left and diagonal cell\n",
    "            elif (matrix[row-1,column] < matrix[row,column-1]) & (matrix[row-1,column] < matrix[row-1,column-1]): \n",
    "                row = row-1 #shift upwards\n",
    "                operations.append('D') #add Deletion to our list\n",
    "            #Value of diagonal cell is smaller than cell to the left and cell above\n",
    "            elif (matrix[row-1,column-1] <= matrix[row,column-1]) & (matrix[row-1,column-1] <= matrix[row-1,column]): \n",
    "                if matrix[row-1,column-1] == matrix[row,column] - 1: #value of diagonal cell is equal to current cell +1\n",
    "                    row = row-1 #shift upwards\n",
    "                    column = column-1 #and shift to the left \n",
    "                    operations.append('S') #add Substitution to our list\n",
    "                else: #value of diagonal cell is equal to current cell\n",
    "                    row = row-1 #shift upwards\n",
    "                    column = column-1 #and shift to the left\n",
    "                    operations.append('-') #add Blank as no operations were needed\n",
    "        elif column != 0: #if we have reached to the first row\n",
    "            column = column-1 #shift to the left\n",
    "            operations.append('I') #add Insertion to our list\n",
    "        else: #if we have reached to the first column\n",
    "            row = row-1 #shift upwards\n",
    "            operations.append('D') #add Deletion to our list\n",
    "    operations = list(reversed(operations)) #reverse the order of the list, so that we have from beginning to end\n",
    "    \n",
    "    \"\"\" Print the results \"\"\"\n",
    "    print ('Optimal sequence: ', operations) #print the contructed matrix\n",
    "    return (int(matrix[m - 1, n - 1])) #return the edit distance"
   ]
  },
  {
   "cell_type": "code",
   "execution_count": 5,
   "metadata": {},
   "outputs": [
    {
     "name": "stdout",
     "output_type": "stream",
     "text": [
      "Optimal sequence:  ['D', 'D', '-', '-', '-', '-', '-', '-', 'S', '-', '-', '-', '-', '-', '-', '-', '-', 'S', 'S', '-', '-', '-', '-', '-', '-', '-', 'D', 'D', '-', '-', '-', '-', '-', '-', '-', 'D', 'S', '-', 'S', '-', '-', '-', '-', '-', '-', '-']\n",
      "Edit distance:  10\n",
      "Time: 0.00398 seconds\n"
     ]
    }
   ],
   "source": [
    "# Print the results from DNA\n",
    "st = time()\n",
    "print('Edit distance: ', edit_distance(X1, Y1))\n",
    "\n",
    "# Print time from DNA\n",
    "print('Time: %0.5f seconds' % (time() - st))"
   ]
  },
  {
   "cell_type": "code",
   "execution_count": 6,
   "metadata": {},
   "outputs": [
    {
     "name": "stdout",
     "output_type": "stream",
     "text": [
      "Optimal sequence:  ['D', 'D', '-', 'D', 'D', 'D', 'D', '-', 'S', '-', 'S', '-', 'S', 'S', 'S', 'S', 'S', 'S', '-', 'S', 'S', '-', 'S', 'S', '-', 'S', '-', 'S', 'S', '-', '-', 'S', '-', 'D', 'D', 'D', 'D', 'D', 'D', 'D', 'D', '-', 'D', 'D', 'D', '-', 'D', 'D', 'D', 'D']\n",
      "Edit distance:  37\n",
      "Time: 0.00298 seconds\n"
     ]
    }
   ],
   "source": [
    "# Print the results from Proteins\n",
    "st = time()\n",
    "print('Edit distance: ', edit_distance(X2, Y2))\n",
    "\n",
    "# Print time from Proteins\n",
    "print('Time: %0.5f seconds' % (time() - st))"
   ]
  },
  {
   "cell_type": "markdown",
   "metadata": {},
   "source": [
    "### 2. Modify the previous algorithm with a penalty function: operations D and I have unit cost 2, whereas operation S has unit cost 1."
   ]
  },
  {
   "cell_type": "code",
   "execution_count": 7,
   "metadata": {},
   "outputs": [],
   "source": [
    "# Using matrix dynamic programming, define a function which given string 1, string 2, \n",
    "# the substitution cost, the deletion cost and the insertion cost, we calculate the edit distance\n",
    "\n",
    "def edit_distance_penalty(string1, string2, sub_cost=1, del_cost=2, ins_cost=2):\n",
    "    \"\"\" Construct the initial matrix \"\"\"\n",
    "    m = len(string1) + 1 #length of string 1\n",
    "    n = len(string2) + 1 #length of string 2\n",
    "    matrix = np.zeros((m, n)) #create a matrix of dimensions m x n with zeros\n",
    "    for x in range(m): #iterate over range of m\n",
    "        matrix[x, 0] = x * del_cost #put the values of the iteration in the first column\n",
    "    for y in range(n): #iterate over range of n\n",
    "        matrix[0, y] = y * ins_cost #put the values of the iteration in the first row\n",
    "\n",
    "    \"\"\" Fill in the matrix with minimum cost \"\"\"\n",
    "    for x in range(1, m): #iterate over range of m skipping the first value [0]\n",
    "        for y in range(1, n): #iterate over range of n skipping the first value [0]\n",
    "            sub = sub_cost if string1[x-1] != string2[y-1] else 0 #determine if there was a substitution         \n",
    "            matrix[x,y] = min( #select the action with minimum cost \n",
    "                matrix[x-1, y-1] + sub, #calculate the substitution cost\n",
    "                matrix[x-1, y] + del_cost, #calculate the deletion cost\n",
    "                matrix[x, y-1] + ins_cost #calculate the insertion cost\n",
    "            )\n",
    "    \n",
    "    \"\"\" Calculate the optimal sequence of operations \"\"\"\n",
    "    row = m-1 #create row variable\n",
    "    column = n-1 #create column variable\n",
    "    operations = [] #create list for optimal sequence of operations\n",
    "    while not ((row == 0) and (column == 0)): #find optimal path from cell [row,column] until cell [0,0]\n",
    "        if (row != 0) & (column != 0): #if we haven't reached the first row or the first column\n",
    "            #Value of cell to the left is smaller than cell above and diagonal cell \"\"\"\n",
    "            if (matrix[row,column-1] + ins_cost < matrix[row-1,column] + del_cost) \\\n",
    "            & (matrix[row,column-1] + ins_cost < matrix[row-1,column-1] + sub_cost): \n",
    "                column = column-1 #shift to the left\n",
    "                operations.append('I') #add Insertion to our list \n",
    "            #Value of cell above is smaller than cell to the left and diagonal cell\n",
    "            elif (matrix[row-1,column] + del_cost < matrix[row,column-1] + ins_cost) \\\n",
    "            & (matrix[row-1,column] + del_cost < matrix[row-1,column-1] + sub_cost): \n",
    "                row = row-1 #shift upwards\n",
    "                operations.append('D') #add Deletion to our list\n",
    "            #Value of diagonal cell is smaller than cell to the left and cell above\n",
    "            elif (matrix[row-1,column-1] + sub_cost <= matrix[row,column-1] + ins_cost) \\\n",
    "            & (matrix[row-1,column-1] + sub_cost <= matrix[row-1,column] + del_cost): \n",
    "                if matrix[row-1,column-1] == matrix[row,column] - sub_cost: #value of diagonal cell is equal to current cell + substitution cost\n",
    "                    row = row-1 #shift upwards\n",
    "                    column = column-1 #and shift to the left \n",
    "                    operations.append('S') #add Substitution to our list\n",
    "                else: #value of diagonal cell is equal to current cell\n",
    "                    row = row-1 #shift upwards\n",
    "                    column = column-1 #and shift to the left\n",
    "                    operations.append('-') #add Blank as no operations were needed\n",
    "        elif column != 0: #if we have reached to the first row\n",
    "            column = column-1 #shift to the left\n",
    "            operations.append('I') #add Insertion to our list\n",
    "        else: #if we have reached to the first column\n",
    "            row = row-1 #shift upwards\n",
    "            operations.append('D') #add Deletion to our list\n",
    "    operations = list(reversed(operations)) #reverse the order of the list, so that we have from beginning to end\n",
    "    \n",
    "    \"\"\" Print the results \"\"\"\n",
    "    print ('Optimal sequence: ', operations) #print the optimal sequence of operations\n",
    "    return (int(matrix[m - 1, n - 1])) #return the edit distance"
   ]
  },
  {
   "cell_type": "code",
   "execution_count": 8,
   "metadata": {},
   "outputs": [
    {
     "name": "stdout",
     "output_type": "stream",
     "text": [
      "Optimal sequence:  ['D', 'D', '-', '-', '-', '-', '-', '-', 'S', '-', '-', '-', '-', '-', '-', '-', '-', 'S', 'S', '-', '-', '-', '-', '-', '-', '-', 'D', 'D', '-', '-', '-', '-', '-', '-', '-', 'D', 'S', '-', 'S', '-', '-', '-', '-', '-', '-', '-']\n",
      "Edit distance:  15\n",
      "Time: 0.00424 seconds\n"
     ]
    }
   ],
   "source": [
    "# Print the results from DNA with penalty\n",
    "st = time()\n",
    "print('Edit distance: ', edit_distance_penalty(X1, Y1))\n",
    "\n",
    "# Print time from DNA with penalty\n",
    "print('Time: %0.5f seconds' % (time() - st))"
   ]
  },
  {
   "cell_type": "code",
   "execution_count": 9,
   "metadata": {},
   "outputs": [
    {
     "name": "stdout",
     "output_type": "stream",
     "text": [
      "Optimal sequence:  ['D', 'D', '-', 'D', 'D', 'D', 'D', '-', 'S', '-', 'S', '-', 'S', 'S', 'S', 'S', 'S', 'S', '-', 'S', 'S', '-', 'S', 'S', '-', 'S', '-', 'S', 'S', '-', '-', 'S', '-', 'D', 'D', 'D', 'D', 'D', 'D', 'D', 'D', '-', 'D', 'D', 'D', '-', 'D', 'D', 'D', 'D']\n",
      "Edit distance:  58\n",
      "Time: 0.00354 seconds\n"
     ]
    }
   ],
   "source": [
    "# Print the results from Proteins with penalty\n",
    "st = time()\n",
    "print('Edit distance: ', edit_distance_penalty(X2, Y2))\n",
    "\n",
    "# Print time from Proteins with penalty\n",
    "print('Time: %0.5f seconds' % (time() - st))"
   ]
  }
 ],
 "metadata": {
  "kernelspec": {
   "display_name": "Python 3",
   "language": "python",
   "name": "python3"
  },
  "language_info": {
   "codemirror_mode": {
    "name": "ipython",
    "version": 3
   },
   "file_extension": ".py",
   "mimetype": "text/x-python",
   "name": "python",
   "nbconvert_exporter": "python",
   "pygments_lexer": "ipython3",
   "version": "3.7.0"
  }
 },
 "nbformat": 4,
 "nbformat_minor": 2
}
